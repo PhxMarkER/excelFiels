{
  "nbformat": 4,
  "nbformat_minor": 0,
  "metadata": {
    "colab": {
      "name": "While ",
      "provenance": [],
      "collapsed_sections": [],
      "authorship_tag": "ABX9TyODyd/5mORx/xOEELaAr93d",
      "include_colab_link": true
    },
    "kernelspec": {
      "name": "python3",
      "display_name": "Python 3"
    },
    "language_info": {
      "name": "python"
    }
  },
  "cells": [
    {
      "cell_type": "markdown",
      "metadata": {
        "id": "view-in-github",
        "colab_type": "text"
      },
      "source": [
        "<a href=\"https://colab.research.google.com/github/PhxMarkER/excelFiels/blob/main/While.ipynb\" target=\"_parent\"><img src=\"https://colab.research.google.com/assets/colab-badge.svg\" alt=\"Open In Colab\"/></a>"
      ]
    },
    {
      "cell_type": "code",
      "execution_count": null,
      "metadata": {
        "colab": {
          "base_uri": "https://localhost:8080/"
        },
        "id": "9Q9b39vrxlgr",
        "outputId": "bcba6818-5292-4d80-ed4b-9606d7257acb"
      },
      "outputs": [
        {
          "output_type": "stream",
          "name": "stdout",
          "text": [
            "a,b,c,d\n",
            "Integer,n,=,0\n",
            "Integer,n,=,1\n",
            "Integer,n,=,2\n",
            "Integer,n,=,3\n",
            "Integer,n,=,4\n",
            "Integer,n,=,5\n",
            "Integer,n,=,6\n",
            "Integer,n,=,7\n",
            "Integer,n,=,8\n",
            "Integer,n,=,9\n",
            "Integer,n,=,10\n"
          ]
        }
      ],
      "source": [
        "n=0\n",
        "print(\"a,b,c,d\")  \n",
        "while n <= 10:\n",
        "  print(f\"Integer,n,=,{n}\")\n",
        "  n += 1\n",
        "#some csv tests\n",
        "file1 = open(\"test1.csv\", \"w\" )\n",
        "file1.close()\n",
        "\n"
      ]
    }
  ]
}